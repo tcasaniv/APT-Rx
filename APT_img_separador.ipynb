{
 "cells": [
  {
   "cell_type": "code",
   "execution_count": 1,
   "metadata": {},
   "outputs": [],
   "source": [
    "# Ruta de la imagen APT Raw a separar en componentes\n",
    "path_APT_img = \"./Files/img_NOAA_18.png\"\n",
    "\n",
    "# Rutas donde guardar los componentes A y B\n",
    "path_APT_img_A = \"./Files/NOAA_18_A.png\"\n",
    "path_APT_img_B = \"./Files/NOAA_18_B.png\""
   ]
  },
  {
   "cell_type": "code",
   "execution_count": 2,
   "metadata": {},
   "outputs": [],
   "source": [
    "from PIL import Image\n",
    "\n",
    "# Tamaños de los componentes de una imagen APT\n",
    "APT_SYNC_WIDTH = 39\n",
    "APT_SPC_WIDTH = 47\n",
    "APT_TELE_WIDTH = 45\n",
    "APT_FRAME_LEN = 128\n",
    "APT_CH_WIDTH = 909"
   ]
  },
  {
   "cell_type": "code",
   "execution_count": 4,
   "metadata": {},
   "outputs": [],
   "source": [
    "i = Image.open(path_APT_img).convert(\"L\")\n",
    "iar = i.load()\n",
    "xsize,ysize = i.size\n",
    "cha = Image.new('RGB',(APT_CH_WIDTH,ysize))\n",
    "chb = Image.new('RGB',(APT_CH_WIDTH,ysize))\n",
    "(left, upper, right, lower) = (APT_SYNC_WIDTH+APT_SPC_WIDTH, 1,APT_SYNC_WIDTH+APT_SPC_WIDTH+APT_CH_WIDTH-10,ysize)\n",
    "cha = i.crop((left, upper, right, lower))\n",
    "#cha.show()\n",
    "(left, upper, right, lower) = (APT_SYNC_WIDTH+APT_SPC_WIDTH+APT_CH_WIDTH+APT_SYNC_WIDTH+APT_SPC_WIDTH+APT_TELE_WIDTH, 1,APT_SYNC_WIDTH+APT_SPC_WIDTH+APT_CH_WIDTH+APT_SYNC_WIDTH+APT_SPC_WIDTH+APT_CH_WIDTH+10,ysize)\n",
    "\n",
    "chb = i.crop((left, upper, right, lower))\n",
    "\n",
    "#chb.show()\n",
    "\n",
    "cha = cha.resize((909,ysize), Image.Resampling.LANCZOS)\n",
    "chb = chb.resize((909,ysize), Image.Resampling.LANCZOS)\n",
    "\n",
    "cha.save(path_APT_img_A)\n",
    "chb.save(path_APT_img_B)\n"
   ]
  }
 ],
 "metadata": {
  "kernelspec": {
   "display_name": "Python 3",
   "language": "python",
   "name": "python3"
  },
  "language_info": {
   "codemirror_mode": {
    "name": "ipython",
    "version": 3
   },
   "file_extension": ".py",
   "mimetype": "text/x-python",
   "name": "python",
   "nbconvert_exporter": "python",
   "pygments_lexer": "ipython3",
   "version": "3.12.1"
  }
 },
 "nbformat": 4,
 "nbformat_minor": 2
}
